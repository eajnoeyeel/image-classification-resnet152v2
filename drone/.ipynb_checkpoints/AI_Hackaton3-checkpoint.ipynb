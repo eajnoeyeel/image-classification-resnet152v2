{
 "cells": [
  {
   "cell_type": "code",
   "execution_count": 1,
   "id": "89edfdc5-47a8-4c7a-98e7-65805ff0c2fb",
   "metadata": {},
   "outputs": [
    {
     "name": "stdout",
     "output_type": "stream",
     "text": [
      "Note: you may need to restart the kernel to use updated packages.\n"
     ]
    }
   ],
   "source": [
    "%pip install -q \"openvino>=2023.1.0\""
   ]
  },
  {
   "cell_type": "code",
   "execution_count": 3,
   "id": "1c8427fb-39ef-4677-8a0f-39e3af38a207",
   "metadata": {},
   "outputs": [
    {
     "name": "stdout",
     "output_type": "stream",
     "text": [
      "Collecting openvino-dev\n",
      "  Downloading openvino_dev-2024.1.0-15008-py3-none-any.whl.metadata (16 kB)\n",
      "Requirement already satisfied: defusedxml>=0.7.1 in c:\\users\\easyh\\anaconda3\\lib\\site-packages (from openvino-dev) (0.7.1)\n",
      "Requirement already satisfied: networkx<=3.1.0 in c:\\users\\easyh\\anaconda3\\lib\\site-packages (from openvino-dev) (3.1)\n",
      "Requirement already satisfied: numpy<2.0.0,>=1.16.6 in c:\\users\\easyh\\anaconda3\\lib\\site-packages (from openvino-dev) (1.26.4)\n",
      "Requirement already satisfied: openvino-telemetry>=2023.2.1 in c:\\users\\easyh\\anaconda3\\lib\\site-packages (from openvino-dev) (2024.1.0)\n",
      "Requirement already satisfied: packaging in c:\\users\\easyh\\anaconda3\\lib\\site-packages (from openvino-dev) (23.1)\n",
      "Requirement already satisfied: pyyaml>=5.4.1 in c:\\users\\easyh\\anaconda3\\lib\\site-packages (from openvino-dev) (6.0.1)\n",
      "Requirement already satisfied: requests>=2.25.1 in c:\\users\\easyh\\anaconda3\\lib\\site-packages (from openvino-dev) (2.31.0)\n",
      "Requirement already satisfied: openvino==2024.1.0 in c:\\users\\easyh\\anaconda3\\lib\\site-packages (from openvino-dev) (2024.1.0)\n",
      "Requirement already satisfied: charset-normalizer<4,>=2 in c:\\users\\easyh\\anaconda3\\lib\\site-packages (from requests>=2.25.1->openvino-dev) (2.0.4)\n",
      "Requirement already satisfied: idna<4,>=2.5 in c:\\users\\easyh\\anaconda3\\lib\\site-packages (from requests>=2.25.1->openvino-dev) (3.4)\n",
      "Requirement already satisfied: urllib3<3,>=1.21.1 in c:\\users\\easyh\\anaconda3\\lib\\site-packages (from requests>=2.25.1->openvino-dev) (2.0.7)\n",
      "Requirement already satisfied: certifi>=2017.4.17 in c:\\users\\easyh\\anaconda3\\lib\\site-packages (from requests>=2.25.1->openvino-dev) (2024.2.2)\n",
      "Downloading openvino_dev-2024.1.0-15008-py3-none-any.whl (4.7 MB)\n",
      "   ---------------------------------------- 0.0/4.7 MB ? eta -:--:--\n",
      "   ---------------------------------------- 0.0/4.7 MB ? eta -:--:--\n",
      "    --------------------------------------- 0.1/4.7 MB 1.6 MB/s eta 0:00:03\n",
      "   -------------- ------------------------- 1.7/4.7 MB 15.1 MB/s eta 0:00:01\n",
      "   ---------------------------------------  4.7/4.7 MB 29.9 MB/s eta 0:00:01\n",
      "   ---------------------------------------- 4.7/4.7 MB 27.1 MB/s eta 0:00:00\n",
      "Installing collected packages: openvino-dev\n",
      "Successfully installed openvino-dev-2024.1.0\n"
     ]
    }
   ],
   "source": [
    "!pip install openvino-dev"
   ]
  },
  {
   "cell_type": "markdown",
   "id": "8e575271-33c3-4c12-aecd-cb0a8e411357",
   "metadata": {},
   "source": [
    "### drone_control.py\n",
    "\n",
    "drone_control은는 드론이 학습시킨 모델로 설정한사물 을 인식하면 script 대로drone을 제어하는 코드."
   ]
  },
  {
   "cell_type": "markdown",
   "id": "be2f72ce-626c-40e4-93c0-3e1f5b66ea8f",
   "metadata": {},
   "source": [
    "### 드론이 사용할 모델 가져오기\n",
    "\n",
    "학습닝한 모델을 불러와서 드론에적용합줍니다.\n",
    "\n",
    "\n",
    "위에서 모델을 만들어 저장한 경로로 가서 필요한 파일하거나, 폴더에 넣어줍니다. 폴더명은 자신의 환경에 따라 변경이 필요함. 줍니다."
   ]
  },
  {
   "cell_type": "code",
   "execution_count": 24,
   "id": "e7e55f73-7f3f-404d-871b-f90c0f6ff185",
   "metadata": {},
   "outputs": [
    {
     "name": "stdout",
     "output_type": "stream",
     "text": [
      "[WinError 2] 지정된 파일을 찾을 수 없습니다: 'bin'\n",
      "C:\\Users\\easyh\\Documents\\drone\\bin\n",
      "        1개 파일이 복사되었습니다.\n",
      "        1개 파일이 복사되었습니다.\n"
     ]
    }
   ],
   "source": [
    "%cd bin\n",
    "%copy mobilenetv2_class8.xml C:\\Users\\easyh\\Documents\\drone\\models\n",
    "%copy mobilenetv2_class8.bin C:\\Users\\easyh\\Documents\\drone\\models"
   ]
  },
  {
   "cell_type": "markdown",
   "id": "496cd58f-cca1-49f8-a0fa-e8de30766934",
   "metadata": {},
   "source": [
    "## 추론할 사물 이름 넣어주기 <중요!!!>\n",
    "C:\\Users\\easyh\\Documents\\drone\\modelss 에서 mobilenet_class8v2.txt 파일을 수정합니다\n",
    "현재 mobilen_class8etv2.tx에는 강의에 사용한 이름 8개가 들어 있습니다. 니\n",
    "대회에서 사용하는 이름으로 추후 변경해야 합니다. 어*면 됩니다. (알파벳 순서로 넣는 것이 매* 중요합.\n",
    "#### 자, 이제 드론에서 사용할 모델 준비가 완료되었습니다."
   ]
  },
  {
   "cell_type": "markdown",
   "id": "66a8a734-e9b1-49cf-a5d9-c7db03ec64cc",
   "metadata": {},
   "source": [
    "## drone_control.py 사용법"
   ]
  },
  {
   "cell_type": "markdown",
   "id": "eeb190d7-49f7-4189-b46f-986f9c1be917",
   "metadata": {},
   "source": [
    "### target 설정하기\n",
    "\n",
    "1.drone_control기.py 에 들어가서 ###드론이 원하는 사물 발견하면 script대로 움직이기###를 찾습니다. (234번째 line\n",
    "2. . 드론이 어떤 사물을 발견했을 때 움직이게 하고 싶은지 결정하고 그 사물을 target 1, 2, 3에 적어줍니다. 이 때 이름은 앞 강좌에던 사물 이름 그대로 사용합니다3\n",
    "3. 타겟을 하나 또는 두 개만 하고 싶을 때는 맨 앞에 #을 붙여주어 주석처리를 해줍니다. 이 때 첫번째, 두번째, 세번째 타겟을 주석처리 함에 따라 그 아래 해당하는 부분도 함께 주석처리를 해주어야 합니다. drone_control조종기.py 에는 세번째 타겟과 그에 따른 부분을 주석처리해 준 상태입니다.\n",
    "\n",
    "### label list 수정하기\n",
    "4. 83번째 line으로 올라가서 label list에 내가 정한 target 이름을 적어주고 그 개수만큼 제거하여 총 8개로 맞추어줍니다. 이 부분은 순서 상관없이 그냥 아무거나 지우시고 원하는 target 을 넣어주시면         self.picLabels = ['aeroplane','bicycle','bird','boat','bottle','bus','car','cat']됩\n",
    "니다. \n",
    "\n",
    "### scripts 작성하기\n",
    "5. 드론이 사물을 발견했을 때 움직이는 motion은 인공지능드론/scripts에 txt 파일로 저장합니다. 이 때 스크립트 이름은 꼭 사물과 동일한 이름으로 해주어야 합니다.\n",
    "6. 위의 스크립트를 작성할 때 직접 txt 파일에drone_control고, my드론조종기.py 를 실행한 후 reset 버튼 아래 스크립트를 적는 칸에 명령어들을 적고 제목을 사물 이름으로 한 후 save 버튼을 눌러도 저장이 됩니다.\n",
    "drone_control내대로 my드론조종기.py 에서 사물이름과 스크립트 작성이 완료된다면 잘 작동됩니다.\n",
    "\n",
    "### Tips\n",
    "drone_control령어를 통해 my드론조종기.py 를 실행하고 GUI 가 뜨면 드론 카메라에 사물을 비춰줍니다. 그럼 83번째 line 에 적힌 사물이라면 GUI 오른쪽 이미지가 방금 비춰진 사물로 update 됩니다. 혹시 방금의 사물이 사물을 인지하면 script 대로 추가 action 을 준 target 이었다면, 사진이 update 되면서 script 대로 추가 action 이 일어납니다. 혹시 여기서 추가 action 이 일어나지 않고 '이미 실행중인 오더가 있습니다.' 라고 뜬다면, GUI 의 RESET 버튼을 눌러주면, 방금 update 된 사진이 다시 원래의 이미지로 돌아가면서 다시 인식할 수 있습니다. "
   ]
  },
  {
   "cell_type": "markdown",
   "id": "87c67e45-4b58-45b3-b78f-d75ba510654e",
   "metadata": {},
   "source": [
    "### GUI 오른쪽 8개 사물 사진 변경하기\n",
    "\n",
    "- GUI 를 실행하면 오른쪽에 8개 사물 사진이 뜹니다. 이 사진을 내가 훈련시킨 사물의 사진으로 변경하고 싶을 때는 아래의 대로 적용해야 함니다. 먼저 8개 사물 사진론/res폴더 밑에 됨니다여기서시면 1. ~ 8. 까지 사진 8장을 볼 수 있습니다. 여기서 내가 원하는 사진여기에더에 준줍니다. 이 때 사진의 크기는 100 * 100 으로 해주어야 나중에 GUI 에 잘 감니다. 사진을 넣은 후 이름을 변경해주어야 하는데, 왼쪽부터 아래로 갈수록 1번부터 8번입니다. 즉 비행기가 1번, 자전거가 2번, 사람이 8번 순으로 GUI 에 사진이 된습니다. \n",
    "\n",
    "-  내가 비행기 대신 추가하려는 사물이 예를 들어 꽃이라면, 꽃의 사진을 res 폴더 밑에 넣어줍니다. 그리고 터미널로 re에서 서브어 해당 폴더 내의 숨김파일을 확인해줍니다. 그럼 1. ~ 8. 의 사진 외에 앞에 '.' 이 붙은 '.1. ~ .8.' 의 사진들을 추가로 더 확인할 수 있습니다. 앞에 '.' 이 하나 더 붙은 파일들이 실제 GUI 에서 볼 수 있는 사진입니다. 따라서 원래의 '.1.' 을 지우고, 꽃의 사진 이름을 '.1.' 로 변경해주어 최종적으로 GUI 의 사진을 바꿀 수 있습사진이 변경되지 않으면 기존의 .1~.8을 지우고 시도해야 함.감사하겠습니다."
   ]
  },
  {
   "cell_type": "markdown",
   "id": "0b35779e-3e2b-41ee-8fcc-116eaa1871c1",
   "metadata": {},
   "source": [
    "### 드론 인터페이스 실행하기"
   ]
  },
  {
   "cell_type": "code",
   "execution_count": 34,
   "id": "2e0e4864-c4f2-4850-bc47-b0a60af4e817",
   "metadata": {},
   "outputs": [
    {
     "name": "stderr",
     "output_type": "stream",
     "text": [
      "'python3'은(는) 내부 또는 외부 명령, 실행할 수 있는 프로그램, 또는\n",
      "배치 파일이 아닙니다.\n"
     ]
    }
   ],
   "source": [
    "!python3 drone_control.py True "
   ]
  },
  {
   "cell_type": "code",
   "execution_count": null,
   "id": "207c53c2-0964-4c43-af5b-c877aa1c92c4",
   "metadata": {},
   "outputs": [],
   "source": []
  }
 ],
 "metadata": {
  "kernelspec": {
   "display_name": "Python 3 (ipykernel)",
   "language": "python",
   "name": "python3"
  },
  "language_info": {
   "codemirror_mode": {
    "name": "ipython",
    "version": 3
   },
   "file_extension": ".py",
   "mimetype": "text/x-python",
   "name": "python",
   "nbconvert_exporter": "python",
   "pygments_lexer": "ipython3",
   "version": "3.11.7"
  }
 },
 "nbformat": 4,
 "nbformat_minor": 5
}
